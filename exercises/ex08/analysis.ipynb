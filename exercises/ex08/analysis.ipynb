{
 "cells": [
  {
   "cell_type": "markdown",
   "metadata": {},
   "source": [
    "# Analysis for Continuous Improvement\n",
    "\n",
    "Author Name: Jeff Zhuo\n",
    "\n",
    "9-digit PID: 730480180\n",
    "\n",
    "Continuous Improvement embraces a belief there is _always room to make things better_. It is a mindset and process we value and practice in this course. In this assignment, you are able to practice continuous improvement and contribute to the design ideas of the course.\n",
    "\n",
    "## Brainstorming Ideas\n",
    "\n",
    "Reflect on your personal experiences and observations in COMP110 and **brainstorm modifications to the course that _create value_ beyond its current design**. When brainstorming, try not to be critical of the ideas you come up with regarding scale, stakeholders impacted, or for any other reasons. In the markdown cell below, brainstorm 3 to 5 ideas you think would create value for you.\n",
    "\n",
    "Each brainstormed idea should state a. the suggested change or addition, b. what the expected value created, and c. which specific stakeholders would benefit.  If helpful, expand on the following template **\"The course should (state idea here) because it will (state value created here) for (insert stakeholders here).\"**\n",
    "\n",
    "Example A: \"The course should use only examples from psychology experiments because it will be more relevant for students who are psychology majors.\"\n",
    "\n",
    "Example B: \"The course should not have post-lesson questions because they are not useful for most students in the class.\""
   ]
  },
  {
   "cell_type": "markdown",
   "metadata": {},
   "source": [
    "### Part 1. Creative Ideation\n",
    "\n",
    "1. This course should *include text documents of contents taught* because it will *allow faster learning process* for *students with prior experience*. \n",
    "2. This course should *include a lab/recitation session* because it will *allow more course practice* for *students without prior experience*.\n",
    "3. This course should *be taught with one large project that builds on each other, instead of individual exercises* for *students enrolled*.\n",
    "4. This course should *have tutorials to walk through larger projects* because it will *allows higher level of comfort* for *students without prior experience*.\n",
    "5. This course should *have one professional project* because it will *give a boost on resume* for *enrolled students*. Students could walk away from this class feeling accomplished beyond the course credits. "
   ]
  },
  {
   "cell_type": "markdown",
   "metadata": {},
   "source": [
    "## Connecting with Available Data\n",
    "\n",
    "The data you have available for this analysis is limited to the anonymized course survey you and your peers filled out a few weeks ago. The data is found in the `survey.csv` file in this exercise directory. Each row represents an individual survey response. Each column has a description which can be found on the project write-up here: <https://22s.comp110.com/exercises/ex08.html>\n",
    "\n",
    "Review the list of available data and identify which one of your ideas _does not_, or is _least likely to_, have relevant data to support the analysis of your idea to create value. In the box below, identify which of your ideas lacks data and suggest how we might be able to collect this data in the future. One aspect of _continuous improvement_ is trying to avoid \"tunnel vision\" where possible improvements are not considered because there is no data available to analyze it. Identifying new data sources can unlock improvements!"
   ]
  },
  {
   "cell_type": "markdown",
   "metadata": {},
   "source": [
    "### Part 2. Identifying Missing Data\n",
    "\n",
    "**1. Idea without sufficient data to analyze:**\n",
    "\n",
    "This course should *include text documents of contents taught* because it will *allow faster learning process* for *students with prior experience*. \n",
    "\n",
    "**2. Suggestion for how to collect data to support this idea in the future:**\n",
    "\n",
    "Text-based teaching makes the content harder to absorb. However, they stick around longer if students could learn from the text. A survey would be insufficient to collect this type of data. For data of this nature, an experiment would be needed and collect experiment data. "
   ]
  },
  {
   "cell_type": "markdown",
   "metadata": {},
   "source": [
    "## Choosing an Idea to Analyze\n",
    "\n",
    "Consider those of your ideas which _do_ seem likely to have relevant data to analyze. If none of your ideas do, spend a few minutes and brainstorm another idea or two with the added connection of data available on hand and add those ideas to your brainstormed ideas list.\n",
    "\n",
    "Select the one idea which you believe is _most valuable_ to analyze relative to the others and has data to support the analysis of. In the markdown cell for Part 3 below, identify the idea you are exploring and articulate why you believe it is most valuable (e.g. widest impact, biggest opportunity for improvement, simplest change for significant improvement, and so on)."
   ]
  },
  {
   "cell_type": "markdown",
   "metadata": {},
   "source": [
    "### Part 3. Choosing Your Analysis\n",
    "\n",
    "**1. Idea to analyze with available data:** \n",
    "\n",
    "This course should *include a lab/recitation session* because it will *allow for more guided course practice* for *students without prior experience*.\n",
    "\n",
    "**2. This idea is more valuable than the others brainstormed because:**\n",
    "\n",
    "COMP 110 would become a 4 hour course, and it truly reflects the amount of time and effort needed for this class. It is also the simplest change, from a student's perspective, for the largest improvement for students without prior experience. "
   ]
  },
  {
   "cell_type": "markdown",
   "metadata": {},
   "source": [
    "## Your Analysis\n",
    "\n",
    "Before you begin analysis, a reminder that we do not expect the data to support everyone's ideas and you can complete this exercise for full credit even if the data does not clearly support your suggestion or even completely refutes it. What we are looking for is a logical attempt to explore the data using the techniques you have learned up until now in a way that _either_ supports, refutes, or does not have a clear result and then to reflect on your findings after the analysis.\n",
    "\n",
    "Using the utility functions you created for the previous exercise, you will continue with your analysis in the following part. Before you begin, refer to the rubric on the technical expectations of this section in the exercise write-up.\n",
    "\n",
    "In this section, you are expected to interleave code and markdown cells such that for each step of your analysis you are starting with an English description of what you are planning to do next in a markdown cell, followed by a Python cell that performs that step of the analysis."
   ]
  },
  {
   "cell_type": "markdown",
   "metadata": {},
   "source": [
    "### Part 4. Analysis\n",
    "\n",
    "We begin by changing some settings in the notebook to automatically reload changes to imported files."
   ]
  },
  {
   "cell_type": "code",
   "execution_count": 1,
   "metadata": {},
   "outputs": [],
   "source": [
    "%reload_ext autoreload\n",
    "%autoreload 2"
   ]
  },
  {
   "cell_type": "markdown",
   "metadata": {},
   "source": [
    "We continue by importing the helper functions from `data_utils`."
   ]
  },
  {
   "cell_type": "code",
   "execution_count": 2,
   "metadata": {},
   "outputs": [],
   "source": [
    "from data_utils import * "
   ]
  },
  {
   "cell_type": "markdown",
   "metadata": {},
   "source": [
    "Next, we would preprocess the CSV data before starting the analysis."
   ]
  },
  {
   "cell_type": "code",
   "execution_count": 3,
   "metadata": {},
   "outputs": [],
   "source": [
    "SURVEY_DATA_CSV_FILE_PATH: str = \"../../data/survey.csv\"\n",
    "\n",
    "row_table: list[dict[str, str]] = read_csv_rows(SURVEY_DATA_CSV_FILE_PATH)\n",
    "# convert to column table so we can work with it more efficiently\n",
    "data_table: dict[str, list[str]] = columnar(row_table)"
   ]
  },
  {
   "cell_type": "markdown",
   "metadata": {},
   "source": [
    "#### Sample size of people who have no experience of coding before COMP 110\n",
    "\n",
    "This proposal is targeted towards students who have no prior coding experience. Therefore, we should first find if they take up significant portion of COMP 110 class. A larger \"None to less than one month!\" sample meant that the proposal would have a larger effect. "
   ]
  },
  {
   "cell_type": "code",
   "execution_count": 4,
   "metadata": {},
   "outputs": [
    {
     "data": {
      "image/png": "[encoded data removed]",
      "text/plain": [
       "<Figure size 504x360 with 1 Axes>"
      ]
     },
     "metadata": {},
     "output_type": "display_data"
    }
   ],
   "source": [
    "import matplotlib.pyplot as plt\n",
    "\n",
    "# filter data\n",
    "exp_and_understanding_table: dict[str, list[str]] = select(data_table, [\"prior_exp\", \"understanding\"])\n",
    "unordered_table: dict[str, int] = count(exp_and_understanding_table[\"prior_exp\"])\n",
    "previous_experience_data: dict[str, int] = order_data(unordered_table, [\"None to less than one month!\", \"2-6 months\", \"7-12 months\", \"1-2 years\", \"Over 2 years\"])\n",
    "\n",
    "# display data\n",
    "fig, axes = plt.subplots(facecolor='w')\n",
    "fig.set_size_inches(7, 5)\n",
    "\n",
    "axes.set_title(\"Students' experience level before COMP 110\")\n",
    "axes.bar(previous_experience_data.keys(), previous_experience_data.values())\n",
    "axes.tick_params(axis='x', labelrotation = 45)\n",
    "\n",
    "fig.align_labels() \n",
    "plt.show()\n"
   ]
  },
  {
   "cell_type": "markdown",
   "metadata": {},
   "source": [
    "#### How are no-experience students doing in class?\n",
    "\n",
    "Next, we would need to know if no-experience students found the class to be hard to understand. If they do, the results would imply that a lab/recitation would be needed to increase understanding. On the other hand, If the data shows high understanding rate, a lab/recitation would just be busy work and a waste of time. \n",
    "\n",
    "A `1` indicate that the student is lost; a `7` indicate the student understand everything."
   ]
  },
  {
   "cell_type": "code",
   "execution_count": 5,
   "metadata": {},
   "outputs": [
    {
     "data": {
      "image/png": "[encoded data removed]",
      "text/plain": [
       "<Figure size 504x360 with 1 Axes>"
      ]
     },
     "metadata": {},
     "output_type": "display_data"
    }
   ],
   "source": [
    "import matplotlib.pyplot as plt\n",
    "\n",
    "# filter data\n",
    "filter_interest_type: dict[str, list[str]] = {\"prior_exp\": [\"None to less than one month!\"], \"understanding\": [\"1\", \"2\", \"3\", \"4\", \"5\", \"6\", \"7\"]}  # this states the type of data I wanted\n",
    "exp_and_understanding_table = head(exp_and_understanding_table, 1000)\n",
    "no_exp_students: dict[str, list[str]] = filter_data(exp_and_understanding_table, filter_interest_type)\n",
    "\n",
    "unordered_no_exp_student_understanding_table: dict[str, int] = count(no_exp_students[\"understanding\"])  # find the frequency of understand level\n",
    "# the resulting table is the distribution of understanding level for no coding experience students\n",
    "ordered_no_exp_student_understanding: dict[str, int] = order_data(unordered_no_exp_student_understanding_table, [\"1\", \"2\", \"3\", \"4\", \"5\", \"6\", \"7\"])\n",
    "\n",
    "# display data\n",
    "fig, axes = plt.subplots(facecolor='w')\n",
    "fig.set_size_inches(7, 5)\n",
    "\n",
    "axes.set_title(\"Level of understanding for No-experience students\")\n",
    "axes.bar(ordered_no_exp_student_understanding.keys(), ordered_no_exp_student_understanding.values())\n",
    "# axes.tick_params(axis='x', labelrotation = 45)\n",
    "\n",
    "fig.align_labels() \n",
    "plt.show()"
   ]
  },
  {
   "cell_type": "markdown",
   "metadata": {},
   "source": [
    "## Conclusion\n",
    "\n",
    "In the following markdown cell, write a reflective conclusion given the analysis you performed and identify recommendations.\n",
    "\n",
    "If your analysis of the data supports your idea, state your recommendation for the change and summarize the data analysys results you found which support it. Additionally, describe any extensions or refinements to this idea which might be explored further. Finally, discuss the potential costs, trade-offs, or stakeholders who may be negatively impacted by this proposed change.\n",
    "\n",
    "If your analysis of the data is inconclusive, summarize why your data analysis results were inconclusive in the support of your idea. Additionally, describe what experimental idea implementation or additional data collection might help build more confidence in assessing your idea. Finally, discuss the potential costs, trade-offs, or stakeholders who may be negatively impacted by experimenting with your idea.\n",
    "\n",
    "Finally, if your analysis of the data does not support it, summarize your data analysis results and why it refutes your idea. Discuss the potential costs, trade-offs, or stakeholders who may be negatively impacted by this proposed change. If you disagree with the validity of the findings, describe why your idea still makes sense to implement and what alternative data would better support it. If you agree with the validity of the data analysis, describe what alternate ideas or extensions you would explore instead. "
   ]
  },
  {
   "cell_type": "markdown",
   "metadata": {},
   "source": [
    "### Part 5. Conclusion\n",
    "\n",
    "The analyzed data ultimately does not support the proposal that this course should *include a lab/recitation session* because it will *allow for more guided course practice* for *students without prior experience*. Although students with no coding experience (one month or less) make up a large proportion of the class, a majority of them found that the class is fairly easy to understand (5~6). \n",
    "\n",
    "The first graphical analysis shows that a great majority of the students in COMP 110 have no coding experience. This supports the effectiveness of lab/recitation because practice makes perfect for new learners. However, the second graphical analysis shows that most students with no coding experience could understand the class at a confidence level of 5 and 6 out of 7. This result refutes the proposal that a lab/recitation session is needed to help students with no coding experience because they already understand the content well. \n",
    "\n",
    "Some negative effects of my proposal would be the extra workload for ULAs, TAs, and the whole student body. I disagree with the findings of this analysis. Naturally, students who has less experience should struggle more than students that have coding experience. It would make sense to continue implementing my proposal because the survey is biased. The survey was taking before the harder concepts like OOP and this project. If the survey was taken near the end of the course (future work), I predict that the level of understand would decrease because harder concepts are taught near the end of the semester. "
   ]
  }
 ],
 "metadata": {
  "interpreter": {
   "hash": "aee8b7b246df8f9039afb4144a1f6fd8d2ca17a180786b69acc140d282b71a49"
  },
  "kernelspec": {
   "display_name": "Python 3.10.2 64-bit",
   "language": "python",
   "name": "python3"
  },
  "language_info": {
   "codemirror_mode": {
    "name": "ipython",
    "version": 3
   },
   "file_extension": ".py",
   "mimetype": "text/x-python",
   "name": "python",
   "nbconvert_exporter": "python",
   "pygments_lexer": "ipython3",
   "version": "3.10.2"
  },
  "orig_nbformat": 4
 },
 "nbformat": 4,
 "nbformat_minor": 2
}
